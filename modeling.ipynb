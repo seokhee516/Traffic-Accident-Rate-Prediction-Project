{
 "cells": [
  {
   "cell_type": "markdown",
   "metadata": {},
   "source": [
    "# 라이브러리 및 데이터 불러오기"
   ]
  },
  {
   "cell_type": "code",
   "execution_count": 1,
   "metadata": {},
   "outputs": [],
   "source": [
    "import pandas as pd\n",
    "import numpy as np\n",
    "\n",
    "from sklearn.model_selection import train_test_split\n",
    "from category_encoders import OrdinalEncoder\n",
    "from sklearn.pipeline import make_pipeline\n",
    "\n",
    "from sklearn.metrics import mean_absolute_error\n",
    "from sklearn.linear_model import LinearRegression\n",
    "from sklearn.tree import DecisionTreeRegressor\n",
    "from sklearn.ensemble import RandomForestRegressor\n",
    "\n",
    "from sklearn.metrics import  mean_squared_error, mean_absolute_error, r2_score\n",
    "\n",
    "import warnings\n",
    "warnings.filterwarnings(action='ignore')"
   ]
  },
  {
   "cell_type": "code",
   "execution_count": 2,
   "metadata": {},
   "outputs": [
    {
     "data": {
      "text/html": [
       "<div>\n",
       "<style scoped>\n",
       "    .dataframe tbody tr th:only-of-type {\n",
       "        vertical-align: middle;\n",
       "    }\n",
       "\n",
       "    .dataframe tbody tr th {\n",
       "        vertical-align: top;\n",
       "    }\n",
       "\n",
       "    .dataframe thead th {\n",
       "        text-align: right;\n",
       "    }\n",
       "</style>\n",
       "<table border=\"1\" class=\"dataframe\">\n",
       "  <thead>\n",
       "    <tr style=\"text-align: right;\">\n",
       "      <th></th>\n",
       "      <th>월</th>\n",
       "      <th>요일</th>\n",
       "      <th>발생지_시도</th>\n",
       "      <th>기상상태</th>\n",
       "      <th>하루_교통사고_건수합</th>\n",
       "    </tr>\n",
       "  </thead>\n",
       "  <tbody>\n",
       "    <tr>\n",
       "      <th>0</th>\n",
       "      <td>1</td>\n",
       "      <td>일</td>\n",
       "      <td>강원</td>\n",
       "      <td>맑음</td>\n",
       "      <td>427</td>\n",
       "    </tr>\n",
       "    <tr>\n",
       "      <th>1</th>\n",
       "      <td>1</td>\n",
       "      <td>일</td>\n",
       "      <td>강원</td>\n",
       "      <td>맑음</td>\n",
       "      <td>427</td>\n",
       "    </tr>\n",
       "    <tr>\n",
       "      <th>2</th>\n",
       "      <td>1</td>\n",
       "      <td>일</td>\n",
       "      <td>서울/경기/인천</td>\n",
       "      <td>흐림</td>\n",
       "      <td>427</td>\n",
       "    </tr>\n",
       "    <tr>\n",
       "      <th>3</th>\n",
       "      <td>1</td>\n",
       "      <td>일</td>\n",
       "      <td>경남/경북/부산/울산/대구</td>\n",
       "      <td>맑음</td>\n",
       "      <td>427</td>\n",
       "    </tr>\n",
       "    <tr>\n",
       "      <th>4</th>\n",
       "      <td>1</td>\n",
       "      <td>일</td>\n",
       "      <td>전남/전북/광주</td>\n",
       "      <td>맑음</td>\n",
       "      <td>427</td>\n",
       "    </tr>\n",
       "  </tbody>\n",
       "</table>\n",
       "</div>"
      ],
      "text/plain": [
       "   월 요일          발생지_시도 기상상태  하루_교통사고_건수합\n",
       "0  1  일              강원   맑음          427\n",
       "1  1  일              강원   맑음          427\n",
       "2  1  일        서울/경기/인천   흐림          427\n",
       "3  1  일  경남/경북/부산/울산/대구   맑음          427\n",
       "4  1  일        전남/전북/광주   맑음          427"
      ]
     },
     "execution_count": 2,
     "metadata": {},
     "output_type": "execute_result"
    }
   ],
   "source": [
    "df = pd.read_csv(\"교통사고데이터.csv\")\n",
    "df = df.iloc[:,1:]\n",
    "df.head()"
   ]
  },
  {
   "cell_type": "markdown",
   "metadata": {},
   "source": [
    "# 모델링"
   ]
  },
  {
   "cell_type": "code",
   "execution_count": 3,
   "metadata": {},
   "outputs": [
    {
     "name": "stdout",
     "output_type": "stream",
     "text": [
      "X_train shape (530466, 4)\n",
      "y_train shape (530466,)\n",
      "X_test shape (132617, 4)\n",
      "y_test shape (132617,)\n"
     ]
    }
   ],
   "source": [
    "# test set 만들기\n",
    "train, test = train_test_split(df, train_size = 0.8, random_state=10)\n",
    "\n",
    "# Target과 features 지정\n",
    "Target = '하루_교통사고_건수합'\n",
    "features = train.drop(columns=[Target]).columns\n",
    "\n",
    "X_train = train[features]\n",
    "y_train = train[Target]\n",
    "X_test = test[features]\n",
    "y_test = test[Target]\n",
    "\n",
    "print('X_train shape', X_train.shape)\n",
    "print('y_train shape', y_train.shape)\n",
    "print('X_test shape', X_test.shape)\n",
    "print('y_test shape', y_test.shape)"
   ]
  },
  {
   "cell_type": "code",
   "execution_count": 4,
   "metadata": {},
   "outputs": [],
   "source": [
    "# 회귀방정식 평가지표\n",
    "def model_evaluation(y, y_pred):\n",
    "    mse = mean_squared_error(y, y_pred)\n",
    "    mae = mean_absolute_error(y, y_pred)\n",
    "    rmse = mse ** 0.5\n",
    "    r2 = r2_score(y, y_pred)\n",
    "\n",
    "    return pd.DataFrame([['MSE', mse],['MAE', mae],['RMSE', rmse],['R2', r2]], columns=['Metric', 'Score'])"
   ]
  },
  {
   "cell_type": "code",
   "execution_count": 5,
   "metadata": {},
   "outputs": [
    {
     "name": "stdout",
     "output_type": "stream",
     "text": [
      "훈련 에러: 63.41\n"
     ]
    }
   ],
   "source": [
    "# LinearRegression\n",
    "lr_pipe = make_pipeline(\n",
    "    OrdinalEncoder(),\n",
    "    LinearRegression()\n",
    ")\n",
    "lr_pipe.fit(X_train, y_train)\n",
    "y_pred_lr = lr_pipe.predict(X_train)\n",
    "mae_lr = mean_absolute_error(y_train, y_pred_lr)\n",
    "print(f'훈련 에러: {mae_lr:.2f}')"
   ]
  },
  {
   "cell_type": "code",
   "execution_count": 6,
   "metadata": {},
   "outputs": [
    {
     "name": "stdout",
     "output_type": "stream",
     "text": [
      "훈련 에러: 42.65\n"
     ]
    }
   ],
   "source": [
    "# DecisionTreeRegressor\n",
    "dt_pipe = make_pipeline(\n",
    "    OrdinalEncoder(),\n",
    "    DecisionTreeRegressor(max_depth=20, random_state=10)\n",
    ")\n",
    "dt_pipe.fit(X_train, y_train)\n",
    "y_pred_dt = dt_pipe.predict(X_train)\n",
    "mae_dt = mean_absolute_error(y_train, y_pred_dt)\n",
    "print(f'훈련 에러: {mae_dt:.2f}')"
   ]
  },
  {
   "cell_type": "code",
   "execution_count": 7,
   "metadata": {},
   "outputs": [
    {
     "name": "stdout",
     "output_type": "stream",
     "text": [
      "훈련 에러: 42.66\n"
     ]
    }
   ],
   "source": [
    "# RandomForestRegressor\n",
    "rf_pipe = make_pipeline(\n",
    "    OrdinalEncoder(),\n",
    "    RandomForestRegressor(n_estimators=50, max_depth=15, random_state=10)\n",
    ")\n",
    "rf_pipe.fit(X_train, y_train)\n",
    "y_pred_rf = rf_pipe.predict(X_train)\n",
    "mae_rf = mean_absolute_error(y_train, y_pred_rf)\n",
    "print(f'훈련 에러: {mae_rf:.2f}')"
   ]
  },
  {
   "cell_type": "code",
   "execution_count": 8,
   "metadata": {},
   "outputs": [
    {
     "data": {
      "text/html": [
       "<div>\n",
       "<style scoped>\n",
       "    .dataframe tbody tr th:only-of-type {\n",
       "        vertical-align: middle;\n",
       "    }\n",
       "\n",
       "    .dataframe tbody tr th {\n",
       "        vertical-align: top;\n",
       "    }\n",
       "\n",
       "    .dataframe thead th {\n",
       "        text-align: right;\n",
       "    }\n",
       "</style>\n",
       "<table border=\"1\" class=\"dataframe\">\n",
       "  <thead>\n",
       "    <tr style=\"text-align: right;\">\n",
       "      <th></th>\n",
       "      <th>Metric</th>\n",
       "      <th>Score</th>\n",
       "    </tr>\n",
       "  </thead>\n",
       "  <tbody>\n",
       "    <tr>\n",
       "      <th>0</th>\n",
       "      <td>MSE</td>\n",
       "      <td>3541.833127</td>\n",
       "    </tr>\n",
       "    <tr>\n",
       "      <th>1</th>\n",
       "      <td>MAE</td>\n",
       "      <td>42.801242</td>\n",
       "    </tr>\n",
       "    <tr>\n",
       "      <th>2</th>\n",
       "      <td>RMSE</td>\n",
       "      <td>59.513302</td>\n",
       "    </tr>\n",
       "    <tr>\n",
       "      <th>3</th>\n",
       "      <td>R2</td>\n",
       "      <td>0.556291</td>\n",
       "    </tr>\n",
       "  </tbody>\n",
       "</table>\n",
       "</div>"
      ],
      "text/plain": [
       "  Metric        Score\n",
       "0    MSE  3541.833127\n",
       "1    MAE    42.801242\n",
       "2   RMSE    59.513302\n",
       "3     R2     0.556291"
      ]
     },
     "execution_count": 8,
     "metadata": {},
     "output_type": "execute_result"
    }
   ],
   "source": [
    "# DecisionTreeRegressor Test set\n",
    "y_test_pred_dt = dt_pipe.predict(X_test)\n",
    "dt_test_df = model_evaluation(y_test, y_test_pred_dt)\n",
    "dt_test_df"
   ]
  },
  {
   "cell_type": "code",
   "execution_count": 9,
   "metadata": {},
   "outputs": [
    {
     "data": {
      "text/html": [
       "<div>\n",
       "<style scoped>\n",
       "    .dataframe tbody tr th:only-of-type {\n",
       "        vertical-align: middle;\n",
       "    }\n",
       "\n",
       "    .dataframe tbody tr th {\n",
       "        vertical-align: top;\n",
       "    }\n",
       "\n",
       "    .dataframe thead th {\n",
       "        text-align: right;\n",
       "    }\n",
       "</style>\n",
       "<table border=\"1\" class=\"dataframe\">\n",
       "  <thead>\n",
       "    <tr style=\"text-align: right;\">\n",
       "      <th></th>\n",
       "      <th>Metric</th>\n",
       "      <th>Score</th>\n",
       "    </tr>\n",
       "  </thead>\n",
       "  <tbody>\n",
       "    <tr>\n",
       "      <th>0</th>\n",
       "      <td>MSE</td>\n",
       "      <td>3539.696666</td>\n",
       "    </tr>\n",
       "    <tr>\n",
       "      <th>1</th>\n",
       "      <td>MAE</td>\n",
       "      <td>42.790046</td>\n",
       "    </tr>\n",
       "    <tr>\n",
       "      <th>2</th>\n",
       "      <td>RMSE</td>\n",
       "      <td>59.495350</td>\n",
       "    </tr>\n",
       "    <tr>\n",
       "      <th>3</th>\n",
       "      <td>R2</td>\n",
       "      <td>0.556559</td>\n",
       "    </tr>\n",
       "  </tbody>\n",
       "</table>\n",
       "</div>"
      ],
      "text/plain": [
       "  Metric        Score\n",
       "0    MSE  3539.696666\n",
       "1    MAE    42.790046\n",
       "2   RMSE    59.495350\n",
       "3     R2     0.556559"
      ]
     },
     "execution_count": 9,
     "metadata": {},
     "output_type": "execute_result"
    }
   ],
   "source": [
    "# RandomForestRegressor Test set\n",
    "y_test_pred_rf = rf_pipe.predict(X_test)\n",
    "rf_test_df = model_evaluation(y_test, y_test_pred_rf)\n",
    "rf_test_df"
   ]
  },
  {
   "cell_type": "markdown",
   "metadata": {},
   "source": [
    "# 모델 부호화"
   ]
  },
  {
   "cell_type": "code",
   "execution_count": null,
   "metadata": {},
   "outputs": [],
   "source": [
    "import pickle\n",
    "\n",
    "# pickle.dump 함수를 통해 파일에 model의 내용을 부호화\n",
    "with open('rf_model.pkl','wb') as pickle_file:\n",
    "    pickle.dump(rf_pipe, pickle_file)"
   ]
  }
 ],
 "metadata": {
  "interpreter": {
   "hash": "172c824fba2eeab1f7f9c4a53b6643bc098c0edf4f1c32bfea6b9b4628052fa8"
  },
  "kernelspec": {
   "display_name": "Python 3.8.12 64-bit ('project3': conda)",
   "language": "python",
   "name": "python3"
  },
  "language_info": {
   "codemirror_mode": {
    "name": "ipython",
    "version": 3
   },
   "file_extension": ".py",
   "mimetype": "text/x-python",
   "name": "python",
   "nbconvert_exporter": "python",
   "pygments_lexer": "ipython3",
   "version": "3.8.12"
  },
  "orig_nbformat": 4
 },
 "nbformat": 4,
 "nbformat_minor": 2
}
