{
 "cells": [
  {
   "cell_type": "markdown",
   "metadata": {},
   "source": [
    "# 라이브러리 및 데이터 불러오기"
   ]
  },
  {
   "cell_type": "code",
   "execution_count": 4,
   "metadata": {},
   "outputs": [],
   "source": [
    "import pandas as pd\n",
    "import numpy as np\n",
    "\n",
    "from sklearn.model_selection import train_test_split\n",
    "from category_encoders import OrdinalEncoder\n",
    "from sklearn.pipeline import make_pipeline\n",
    "from sklearn.pipeline import Pipeline\n",
    "\n",
    "from sklearn.metrics import mean_absolute_error\n",
    "from sklearn.linear_model import LinearRegression\n",
    "from sklearn.tree import DecisionTreeRegressor\n",
    "from sklearn.ensemble import RandomForestRegressor\n",
    "\n",
    "from sklearn.metrics import  mean_squared_error, mean_absolute_error, r2_score\n",
    "\n",
    "import warnings\n",
    "warnings.filterwarnings(action='ignore')"
   ]
  },
  {
   "cell_type": "code",
   "execution_count": 48,
   "metadata": {},
   "outputs": [
    {
     "data": {
      "text/plain": [
       "(663083, 5)"
      ]
     },
     "execution_count": 48,
     "metadata": {},
     "output_type": "execute_result"
    }
   ],
   "source": [
    "df.shape"
   ]
  },
  {
   "cell_type": "code",
   "execution_count": 5,
   "metadata": {},
   "outputs": [
    {
     "data": {
      "text/html": [
       "<div>\n",
       "<style scoped>\n",
       "    .dataframe tbody tr th:only-of-type {\n",
       "        vertical-align: middle;\n",
       "    }\n",
       "\n",
       "    .dataframe tbody tr th {\n",
       "        vertical-align: top;\n",
       "    }\n",
       "\n",
       "    .dataframe thead th {\n",
       "        text-align: right;\n",
       "    }\n",
       "</style>\n",
       "<table border=\"1\" class=\"dataframe\">\n",
       "  <thead>\n",
       "    <tr style=\"text-align: right;\">\n",
       "      <th></th>\n",
       "      <th>월</th>\n",
       "      <th>요일</th>\n",
       "      <th>발생지_시도</th>\n",
       "      <th>기상상태</th>\n",
       "      <th>하루_교통사고_건수합</th>\n",
       "    </tr>\n",
       "  </thead>\n",
       "  <tbody>\n",
       "    <tr>\n",
       "      <th>0</th>\n",
       "      <td>1</td>\n",
       "      <td>일</td>\n",
       "      <td>강원</td>\n",
       "      <td>맑음</td>\n",
       "      <td>427</td>\n",
       "    </tr>\n",
       "    <tr>\n",
       "      <th>1</th>\n",
       "      <td>1</td>\n",
       "      <td>일</td>\n",
       "      <td>강원</td>\n",
       "      <td>맑음</td>\n",
       "      <td>427</td>\n",
       "    </tr>\n",
       "    <tr>\n",
       "      <th>2</th>\n",
       "      <td>1</td>\n",
       "      <td>일</td>\n",
       "      <td>서울/경기/인천</td>\n",
       "      <td>흐림</td>\n",
       "      <td>427</td>\n",
       "    </tr>\n",
       "    <tr>\n",
       "      <th>3</th>\n",
       "      <td>1</td>\n",
       "      <td>일</td>\n",
       "      <td>경남/경북/부산/울산/대구</td>\n",
       "      <td>맑음</td>\n",
       "      <td>427</td>\n",
       "    </tr>\n",
       "    <tr>\n",
       "      <th>4</th>\n",
       "      <td>1</td>\n",
       "      <td>일</td>\n",
       "      <td>전남/전북/광주</td>\n",
       "      <td>맑음</td>\n",
       "      <td>427</td>\n",
       "    </tr>\n",
       "  </tbody>\n",
       "</table>\n",
       "</div>"
      ],
      "text/plain": [
       "   월 요일          발생지_시도 기상상태  하루_교통사고_건수합\n",
       "0  1  일              강원   맑음          427\n",
       "1  1  일              강원   맑음          427\n",
       "2  1  일        서울/경기/인천   흐림          427\n",
       "3  1  일  경남/경북/부산/울산/대구   맑음          427\n",
       "4  1  일        전남/전북/광주   맑음          427"
      ]
     },
     "execution_count": 5,
     "metadata": {},
     "output_type": "execute_result"
    }
   ],
   "source": [
    "df = pd.read_csv(\"교통사고데이터.csv\")\n",
    "df = df.iloc[:,1:]\n",
    "df.head()"
   ]
  },
  {
   "cell_type": "markdown",
   "metadata": {},
   "source": [
    "# 모델링"
   ]
  },
  {
   "cell_type": "code",
   "execution_count": 6,
   "metadata": {},
   "outputs": [
    {
     "name": "stdout",
     "output_type": "stream",
     "text": [
      "X_train shape (530466, 4)\n",
      "y_train shape (530466,)\n",
      "X_test shape (132617, 4)\n",
      "y_test shape (132617,)\n"
     ]
    }
   ],
   "source": [
    "# test set 만들기\n",
    "train, test = train_test_split(df, train_size = 0.8, random_state=10)\n",
    "\n",
    "# Target과 features 지정\n",
    "Target = '하루_교통사고_건수합'\n",
    "features = train.drop(columns=[Target]).columns\n",
    "\n",
    "X_train = train[features]\n",
    "y_train = train[Target]\n",
    "X_test = test[features]\n",
    "y_test = test[Target]\n",
    "\n",
    "print('X_train shape', X_train.shape)\n",
    "print('y_train shape', y_train.shape)\n",
    "print('X_test shape', X_test.shape)\n",
    "print('y_test shape', y_test.shape)"
   ]
  },
  {
   "cell_type": "code",
   "execution_count": 7,
   "metadata": {},
   "outputs": [],
   "source": [
    "# 회귀방정식 평가지표\n",
    "def model_evaluation(y, y_pred):\n",
    "    mse = mean_squared_error(y, y_pred)\n",
    "    mae = mean_absolute_error(y, y_pred)\n",
    "    rmse = mse ** 0.5\n",
    "    r2 = r2_score(y, y_pred)\n",
    "\n",
    "    return pd.DataFrame([['MSE', mse],['MAE', mae],['RMSE', rmse],['R2', r2]], columns=['Metric', 'Score'])"
   ]
  },
  {
   "cell_type": "code",
   "execution_count": 8,
   "metadata": {},
   "outputs": [
    {
     "name": "stdout",
     "output_type": "stream",
     "text": [
      "훈련 에러: 63.41\n"
     ]
    }
   ],
   "source": [
    "# LinearRegression\n",
    "lr_pipe = make_pipeline(\n",
    "    OrdinalEncoder(),\n",
    "    LinearRegression()\n",
    ")\n",
    "lr_pipe.fit(X_train, y_train)\n",
    "y_pred_lr = lr_pipe.predict(X_train)\n",
    "mae_lr = mean_absolute_error(y_train, y_pred_lr)\n",
    "print(f'훈련 에러: {mae_lr:.2f}')"
   ]
  },
  {
   "cell_type": "code",
   "execution_count": 9,
   "metadata": {},
   "outputs": [
    {
     "name": "stdout",
     "output_type": "stream",
     "text": [
      "훈련 에러: 42.65\n"
     ]
    }
   ],
   "source": [
    "# DecisionTreeRegressor\n",
    "dt_pipe = make_pipeline(\n",
    "    OrdinalEncoder(),\n",
    "    DecisionTreeRegressor(max_depth=20, random_state=10)\n",
    ")\n",
    "dt_pipe.fit(X_train, y_train)\n",
    "y_pred_dt = dt_pipe.predict(X_train)\n",
    "mae_dt = mean_absolute_error(y_train, y_pred_dt)\n",
    "print(f'훈련 에러: {mae_dt:.2f}')"
   ]
  },
  {
   "cell_type": "code",
   "execution_count": 10,
   "metadata": {},
   "outputs": [
    {
     "name": "stdout",
     "output_type": "stream",
     "text": [
      "훈련 에러: 42.66\n"
     ]
    }
   ],
   "source": [
    "# RandomForestRegressor\n",
    "rf_pipe = make_pipeline(\n",
    "    OrdinalEncoder(),\n",
    "    RandomForestRegressor(n_estimators=50, max_depth=15, random_state=10)\n",
    ")\n",
    "rf_pipe.fit(X_train, y_train)\n",
    "y_pred_rf = rf_pipe.predict(X_train)\n",
    "mae_rf = mean_absolute_error(y_train, y_pred_rf)\n",
    "print(f'훈련 에러: {mae_rf:.2f}')"
   ]
  },
  {
   "cell_type": "code",
   "execution_count": 18,
   "metadata": {},
   "outputs": [
    {
     "data": {
      "text/html": [
       "<div>\n",
       "<style scoped>\n",
       "    .dataframe tbody tr th:only-of-type {\n",
       "        vertical-align: middle;\n",
       "    }\n",
       "\n",
       "    .dataframe tbody tr th {\n",
       "        vertical-align: top;\n",
       "    }\n",
       "\n",
       "    .dataframe thead th {\n",
       "        text-align: right;\n",
       "    }\n",
       "</style>\n",
       "<table border=\"1\" class=\"dataframe\">\n",
       "  <thead>\n",
       "    <tr style=\"text-align: right;\">\n",
       "      <th></th>\n",
       "      <th>Metric</th>\n",
       "      <th>Score</th>\n",
       "    </tr>\n",
       "  </thead>\n",
       "  <tbody>\n",
       "    <tr>\n",
       "      <th>0</th>\n",
       "      <td>MSE</td>\n",
       "      <td>3541.833127</td>\n",
       "    </tr>\n",
       "    <tr>\n",
       "      <th>1</th>\n",
       "      <td>MAE</td>\n",
       "      <td>42.801242</td>\n",
       "    </tr>\n",
       "    <tr>\n",
       "      <th>2</th>\n",
       "      <td>RMSE</td>\n",
       "      <td>59.513302</td>\n",
       "    </tr>\n",
       "    <tr>\n",
       "      <th>3</th>\n",
       "      <td>R2</td>\n",
       "      <td>0.556291</td>\n",
       "    </tr>\n",
       "  </tbody>\n",
       "</table>\n",
       "</div>"
      ],
      "text/plain": [
       "  Metric        Score\n",
       "0    MSE  3541.833127\n",
       "1    MAE    42.801242\n",
       "2   RMSE    59.513302\n",
       "3     R2     0.556291"
      ]
     },
     "execution_count": 18,
     "metadata": {},
     "output_type": "execute_result"
    }
   ],
   "source": [
    "# DecisionTreeRegressor Test set\n",
    "y_test_pred_dt = dt_pipe.predict(X_test)\n",
    "dt_test_df = model_evaluation(y_test, y_test_pred_dt)\n",
    "dt_test_df"
   ]
  },
  {
   "cell_type": "code",
   "execution_count": 19,
   "metadata": {},
   "outputs": [
    {
     "data": {
      "text/html": [
       "<div>\n",
       "<style scoped>\n",
       "    .dataframe tbody tr th:only-of-type {\n",
       "        vertical-align: middle;\n",
       "    }\n",
       "\n",
       "    .dataframe tbody tr th {\n",
       "        vertical-align: top;\n",
       "    }\n",
       "\n",
       "    .dataframe thead th {\n",
       "        text-align: right;\n",
       "    }\n",
       "</style>\n",
       "<table border=\"1\" class=\"dataframe\">\n",
       "  <thead>\n",
       "    <tr style=\"text-align: right;\">\n",
       "      <th></th>\n",
       "      <th>Metric</th>\n",
       "      <th>Score</th>\n",
       "    </tr>\n",
       "  </thead>\n",
       "  <tbody>\n",
       "    <tr>\n",
       "      <th>0</th>\n",
       "      <td>MSE</td>\n",
       "      <td>3539.696666</td>\n",
       "    </tr>\n",
       "    <tr>\n",
       "      <th>1</th>\n",
       "      <td>MAE</td>\n",
       "      <td>42.790046</td>\n",
       "    </tr>\n",
       "    <tr>\n",
       "      <th>2</th>\n",
       "      <td>RMSE</td>\n",
       "      <td>59.495350</td>\n",
       "    </tr>\n",
       "    <tr>\n",
       "      <th>3</th>\n",
       "      <td>R2</td>\n",
       "      <td>0.556559</td>\n",
       "    </tr>\n",
       "  </tbody>\n",
       "</table>\n",
       "</div>"
      ],
      "text/plain": [
       "  Metric        Score\n",
       "0    MSE  3539.696666\n",
       "1    MAE    42.790046\n",
       "2   RMSE    59.495350\n",
       "3     R2     0.556559"
      ]
     },
     "execution_count": 19,
     "metadata": {},
     "output_type": "execute_result"
    }
   ],
   "source": [
    "# RandomForestRegressor Test set\n",
    "y_test_pred_rf = rf_pipe.predict(X_test)\n",
    "rf_test_df = model_evaluation(y_test, y_test_pred_rf)\n",
    "rf_test_df"
   ]
  },
  {
   "cell_type": "code",
   "execution_count": 25,
   "metadata": {},
   "outputs": [
    {
     "data": {
      "text/plain": [
       "Pipeline(steps=[('preprocessing',\n",
       "                 Pipeline(steps=[('ordinalencoder',\n",
       "                                  OrdinalEncoder(cols=['요일', '발생지_시도', '기상상태'],\n",
       "                                                 mapping=[{'col': '요일',\n",
       "                                                           'data_type': dtype('O'),\n",
       "                                                           'mapping': 일      1\n",
       "토      2\n",
       "월      3\n",
       "금      4\n",
       "목      5\n",
       "화      6\n",
       "수      7\n",
       "NaN   -2\n",
       "dtype: int64},\n",
       "                                                          {'col': '발생지_시도',\n",
       "                                                           'data_type': dtype('O'),\n",
       "                                                           'mapping': 서울/경기/인천          1\n",
       "강원                2\n",
       "경남/경북/부산/울산/대구    3\n",
       "충남/충북/대전/세종       4\n",
       "전남/전북/광주          5\n",
       "제주                6\n",
       "NaN              -2\n",
       "dtype: int64},\n",
       "                                                          {'col': '기상상태',\n",
       "                                                           'data_type': dtype('O'),\n",
       "                                                           'mapping': 맑음       1\n",
       "흐림       2\n",
       "비        3\n",
       "눈        4\n",
       "기타/불명    5\n",
       "안개       6\n",
       "NaN     -2\n",
       "dtype: int64}]))])),\n",
       "                ('rf',\n",
       "                 RandomForestRegressor(max_depth=15, n_estimators=50, n_jobs=-1,\n",
       "                                       random_state=10))])"
      ]
     },
     "execution_count": 25,
     "metadata": {},
     "output_type": "execute_result"
    }
   ],
   "source": [
    "# RandomForestRegressor 선택\n",
    "# encoder, imputer를 preprocessing으로 묶었습니다. 후에 eli5 permutation 계산에 사용합니다\n",
    "pipe = Pipeline([\n",
    "    ('preprocessing', make_pipeline(OrdinalEncoder())),\n",
    "    ('rf', RandomForestRegressor(n_estimators=50, max_depth=15, random_state=10, n_jobs=-1)) \n",
    "])\n",
    "pipe.fit(X_train, y_train)"
   ]
  },
  {
   "cell_type": "markdown",
   "metadata": {},
   "source": [
    "# 모델 해석"
   ]
  },
  {
   "cell_type": "code",
   "execution_count": 45,
   "metadata": {},
   "outputs": [],
   "source": [
    "import warnings\n",
    "warnings.simplefilter(action='ignore', category=FutureWarning)\n",
    "\n",
    "import eli5\n",
    "from eli5.sklearn import PermutationImportance\n",
    "\n",
    "# permuter 정의\n",
    "permuter = PermutationImportance(\n",
    "    pipe.named_steps['rf'], # model\n",
    "    random_state=10\n",
    ")\n",
    "\n",
    "# permuter 계산은 preprocessing 된 X_val을 사용합니다.\n",
    "X_test_transformed = pipe.named_steps['preprocessing'].transform(X_test)\n",
    "\n",
    "# 실제로 fit 의미보다는 스코어를 다시 계산하는 작업입니다\n",
    "permuter.fit(X_test_transformed, y_test);"
   ]
  },
  {
   "cell_type": "code",
   "execution_count": 47,
   "metadata": {},
   "outputs": [
    {
     "data": {
      "text/plain": [
       "요일        0.780679\n",
       "월         0.414387\n",
       "기상상태      0.045031\n",
       "발생지_시도    0.007748\n",
       "dtype: float64"
      ]
     },
     "execution_count": 47,
     "metadata": {},
     "output_type": "execute_result"
    }
   ],
   "source": [
    "feature_names = X_test.columns.tolist()\n",
    "pd.Series(permuter.feature_importances_, feature_names).sort_values(ascending=False)"
   ]
  },
  {
   "cell_type": "markdown",
   "metadata": {},
   "source": [
    "# 모델 부호화"
   ]
  },
  {
   "cell_type": "code",
   "execution_count": 39,
   "metadata": {},
   "outputs": [],
   "source": [
    "import pickle\n",
    "\n",
    "# pickle.dump 함수를 통해 파일에 model의 내용을 부호화\n",
    "with open('rf_model.pkl','wb') as pickle_file:\n",
    "    pickle.dump(pipe, pickle_file)"
   ]
  },
  {
   "cell_type": "code",
   "execution_count": null,
   "metadata": {},
   "outputs": [],
   "source": []
  }
 ],
 "metadata": {
  "interpreter": {
   "hash": "172c824fba2eeab1f7f9c4a53b6643bc098c0edf4f1c32bfea6b9b4628052fa8"
  },
  "kernelspec": {
   "display_name": "Python 3.8.12 64-bit ('project3': conda)",
   "language": "python",
   "name": "python3"
  },
  "language_info": {
   "codemirror_mode": {
    "name": "ipython",
    "version": 3
   },
   "file_extension": ".py",
   "mimetype": "text/x-python",
   "name": "python",
   "nbconvert_exporter": "python",
   "pygments_lexer": "ipython3",
   "version": "3.8.12"
  },
  "orig_nbformat": 4
 },
 "nbformat": 4,
 "nbformat_minor": 2
}
